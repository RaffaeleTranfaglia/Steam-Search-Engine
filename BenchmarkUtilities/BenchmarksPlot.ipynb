{
 "cells": [
  {
   "cell_type": "markdown",
   "metadata": {},
   "source": [
    "# Steam Search Engine - Evaluation\n",
    "This document aims to evaluate the performances of the search engine through a series of measures.\n",
    "The set of queries considered in the computations is defined in \"queries.json\".\n",
    "All the measures are applied to the different verions of the project:\n",
    "- base version, ranking model: BM25F;\n",
    "- sentiment analysis v1: every game sentiment value is obtained from the average of its reviews sentiment values;\n",
    "- sentiment analysis v2: every game sentiment value is obatined from the inverted neutral weighted average of its reviews sentiment values.\n",
    "\n",
    "The following code retrieves the queries set and creates the Benchmarks object."
   ]
  },
  {
   "cell_type": "code",
   "execution_count": 2,
   "metadata": {},
   "outputs": [],
   "source": [
    "import json\n",
    "from benchmarks import Benchmarks\n",
    "\n",
    "with open('queries.json') as f:\n",
    "    queries = json.load(f)\n",
    "\n",
    "b = Benchmarks(queries)"
   ]
  },
  {
   "cell_type": "markdown",
   "metadata": {},
   "source": [
    "NB. Per eseguire i benchmark è obbligatorio creare gli indici (indexdir/base e indexdir/sentiment) in precedenza."
   ]
  },
  {
   "cell_type": "code",
   "execution_count": null,
   "metadata": {},
   "outputs": [],
   "source": [
    "import os\n",
    "import whoosh\n",
    "from MainImplementation.GameSearcher import GameSearcher\n",
    "\n",
    "indexdirBase = \"indexdir/base\"\n",
    "indexdirSentiment = \"indexdir/sentiment\"\n",
    "if (not os.path.exists(indexdirBase) and not os.path.exists(indexdirSentiment)):\n",
    "        raise Exception(\"Index not found\")\n",
    "# create the 2 index objects for the \n",
    "main_idxb, reviews_idxb = whoosh.open_dir(indexdirBase + \"/main_index\"), whoosh.open_dir(indexdirBase + \"/reviews_index\")\n",
    "main_idxs, reviews_idxs = whoosh.open_dir(indexdirSentiment + \"/main_index\"), whoosh.open_dir(indexdirSentiment + \"/reviews_index\")\n",
    "\n",
    "# there is one GameSearcher object for every version of the engine\n",
    "SearcherBaseVersion = GameSearcher(main_idxb, reviews_idxb)\n",
    "SearcherSentimentAV = GameSearcher(main_idxs, reviews_idxs, True, \"av\")\n",
    "SearcherSentimentINAV = GameSearcher(main_idxs, reviews_idxs, True, \"inav\")\n",
    "\n",
    "answerB = SearcherBaseVersion.search(b.queries[0][\"query\"], b.queries[0][\"fields\"])\n",
    "answerAV = SearcherSentimentAV.search(b.queries[0][\"query\"], b.queries[0][\"fields\"])\n",
    "answerINAV = SearcherSentimentINAV.search(b.queries[0][\"query\"], b.queries[0][\"fields\"])"
   ]
  }
 ],
 "metadata": {
  "kernelspec": {
   "display_name": "venv",
   "language": "python",
   "name": "python3"
  },
  "language_info": {
   "codemirror_mode": {
    "name": "ipython",
    "version": 3
   },
   "file_extension": ".py",
   "mimetype": "text/x-python",
   "name": "python",
   "nbconvert_exporter": "python",
   "pygments_lexer": "ipython3",
   "version": "3.9.6"
  }
 },
 "nbformat": 4,
 "nbformat_minor": 2
}
